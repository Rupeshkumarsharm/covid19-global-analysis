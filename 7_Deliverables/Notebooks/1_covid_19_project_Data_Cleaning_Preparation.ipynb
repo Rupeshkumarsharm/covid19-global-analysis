{
 "cells": [
  {
   "cell_type": "code",
   "execution_count": 1,
   "id": "c106f88d-bb7e-4fd7-b0cd-dc0cfbc983f5",
   "metadata": {},
   "outputs": [],
   "source": [
    "import pandas as pd\n",
    "import numpy as np"
   ]
  },
  {
   "cell_type": "code",
   "execution_count": 3,
   "id": "9bd4af47-74f1-4f99-a56a-34a3ab44263f",
   "metadata": {},
   "outputs": [],
   "source": [
    "# Load the new full dataset\n",
    "df = pd.read_csv(r'F:\\Projects\\2_COVID-19 Global Analysis\\1_Raw Data\\owid-covid-data_2.csv')"
   ]
  },
  {
   "cell_type": "code",
   "execution_count": 4,
   "id": "52ce338c-2479-40c2-86a0-03c7dc29bf8f",
   "metadata": {},
   "outputs": [
    {
     "name": "stdout",
     "output_type": "stream",
     "text": [
      "  iso_code continent     location        date  total_cases  new_cases  \\\n",
      "0      AFG      Asia  Afghanistan  2020-01-05          0.0        0.0   \n",
      "1      AFG      Asia  Afghanistan  2020-01-06          0.0        0.0   \n",
      "2      AFG      Asia  Afghanistan  2020-01-07          0.0        0.0   \n",
      "3      AFG      Asia  Afghanistan  2020-01-08          0.0        0.0   \n",
      "4      AFG      Asia  Afghanistan  2020-01-09          0.0        0.0   \n",
      "\n",
      "   new_cases_smoothed  total_deaths  new_deaths  new_deaths_smoothed  ...  \\\n",
      "0                 NaN           0.0         0.0                  NaN  ...   \n",
      "1                 NaN           0.0         0.0                  NaN  ...   \n",
      "2                 NaN           0.0         0.0                  NaN  ...   \n",
      "3                 NaN           0.0         0.0                  NaN  ...   \n",
      "4                 NaN           0.0         0.0                  NaN  ...   \n",
      "\n",
      "   male_smokers  handwashing_facilities  hospital_beds_per_thousand  \\\n",
      "0           NaN                   37.75                         0.5   \n",
      "1           NaN                   37.75                         0.5   \n",
      "2           NaN                   37.75                         0.5   \n",
      "3           NaN                   37.75                         0.5   \n",
      "4           NaN                   37.75                         0.5   \n",
      "\n",
      "   life_expectancy  human_development_index  population  \\\n",
      "0            64.83                     0.51    41128772   \n",
      "1            64.83                     0.51    41128772   \n",
      "2            64.83                     0.51    41128772   \n",
      "3            64.83                     0.51    41128772   \n",
      "4            64.83                     0.51    41128772   \n",
      "\n",
      "   excess_mortality_cumulative_absolute  excess_mortality_cumulative  \\\n",
      "0                                   NaN                          NaN   \n",
      "1                                   NaN                          NaN   \n",
      "2                                   NaN                          NaN   \n",
      "3                                   NaN                          NaN   \n",
      "4                                   NaN                          NaN   \n",
      "\n",
      "   excess_mortality  excess_mortality_cumulative_per_million  \n",
      "0               NaN                                      NaN  \n",
      "1               NaN                                      NaN  \n",
      "2               NaN                                      NaN  \n",
      "3               NaN                                      NaN  \n",
      "4               NaN                                      NaN  \n",
      "\n",
      "[5 rows x 67 columns]\n",
      "<class 'pandas.core.frame.DataFrame'>\n",
      "RangeIndex: 429435 entries, 0 to 429434\n",
      "Data columns (total 67 columns):\n",
      " #   Column                                      Non-Null Count   Dtype  \n",
      "---  ------                                      --------------   -----  \n",
      " 0   iso_code                                    429435 non-null  object \n",
      " 1   continent                                   402910 non-null  object \n",
      " 2   location                                    429435 non-null  object \n",
      " 3   date                                        429435 non-null  object \n",
      " 4   total_cases                                 411804 non-null  float64\n",
      " 5   new_cases                                   410159 non-null  float64\n",
      " 6   new_cases_smoothed                          408929 non-null  float64\n",
      " 7   total_deaths                                411804 non-null  float64\n",
      " 8   new_deaths                                  410608 non-null  float64\n",
      " 9   new_deaths_smoothed                         409378 non-null  float64\n",
      " 10  total_cases_per_million                     411804 non-null  float64\n",
      " 11  new_cases_per_million                       410159 non-null  float64\n",
      " 12  new_cases_smoothed_per_million              408929 non-null  float64\n",
      " 13  total_deaths_per_million                    411804 non-null  float64\n",
      " 14  new_deaths_per_million                      410608 non-null  float64\n",
      " 15  new_deaths_smoothed_per_million             409378 non-null  float64\n",
      " 16  reproduction_rate                           184817 non-null  float64\n",
      " 17  icu_patients                                39116 non-null   float64\n",
      " 18  icu_patients_per_million                    39116 non-null   float64\n",
      " 19  hosp_patients                               40656 non-null   float64\n",
      " 20  hosp_patients_per_million                   40656 non-null   float64\n",
      " 21  weekly_icu_admissions                       10993 non-null   float64\n",
      " 22  weekly_icu_admissions_per_million           10993 non-null   float64\n",
      " 23  weekly_hosp_admissions                      24497 non-null   float64\n",
      " 24  weekly_hosp_admissions_per_million          24497 non-null   float64\n",
      " 25  total_tests                                 79387 non-null   float64\n",
      " 26  new_tests                                   75403 non-null   float64\n",
      " 27  total_tests_per_thousand                    79387 non-null   float64\n",
      " 28  new_tests_per_thousand                      75403 non-null   float64\n",
      " 29  new_tests_smoothed                          103965 non-null  float64\n",
      " 30  new_tests_smoothed_per_thousand             103965 non-null  float64\n",
      " 31  positive_rate                               95927 non-null   float64\n",
      " 32  tests_per_case                              94348 non-null   float64\n",
      " 33  tests_units                                 106788 non-null  object \n",
      " 34  total_vaccinations                          85417 non-null   float64\n",
      " 35  people_vaccinated                           81132 non-null   float64\n",
      " 36  people_fully_vaccinated                     78061 non-null   float64\n",
      " 37  total_boosters                              53600 non-null   float64\n",
      " 38  new_vaccinations                            70971 non-null   float64\n",
      " 39  new_vaccinations_smoothed                   195029 non-null  float64\n",
      " 40  total_vaccinations_per_hundred              85417 non-null   float64\n",
      " 41  people_vaccinated_per_hundred               81132 non-null   float64\n",
      " 42  people_fully_vaccinated_per_hundred         78061 non-null   float64\n",
      " 43  total_boosters_per_hundred                  53600 non-null   float64\n",
      " 44  new_vaccinations_smoothed_per_million       195029 non-null  float64\n",
      " 45  new_people_vaccinated_smoothed              192177 non-null  float64\n",
      " 46  new_people_vaccinated_smoothed_per_hundred  192177 non-null  float64\n",
      " 47  stringency_index                            196190 non-null  float64\n",
      " 48  population_density                          360492 non-null  float64\n",
      " 49  median_age                                  334663 non-null  float64\n",
      " 50  aged_65_older                               323270 non-null  float64\n",
      " 51  aged_70_older                               331315 non-null  float64\n",
      " 52  gdp_per_capita                              328292 non-null  float64\n",
      " 53  extreme_poverty                             211996 non-null  float64\n",
      " 54  cardiovasc_death_rate                       328865 non-null  float64\n",
      " 55  diabetes_prevalence                         345911 non-null  float64\n",
      " 56  female_smokers                              247165 non-null  float64\n",
      " 57  male_smokers                                243817 non-null  float64\n",
      " 58  handwashing_facilities                      161741 non-null  float64\n",
      " 59  hospital_beds_per_thousand                  290689 non-null  float64\n",
      " 60  life_expectancy                             390299 non-null  float64\n",
      " 61  human_development_index                     319127 non-null  float64\n",
      " 62  population                                  429435 non-null  int64  \n",
      " 63  excess_mortality_cumulative_absolute        13411 non-null   float64\n",
      " 64  excess_mortality_cumulative                 13411 non-null   float64\n",
      " 65  excess_mortality                            13411 non-null   float64\n",
      " 66  excess_mortality_cumulative_per_million     13411 non-null   float64\n",
      "dtypes: float64(61), int64(1), object(5)\n",
      "memory usage: 219.5+ MB\n",
      "None\n"
     ]
    }
   ],
   "source": [
    "# Quick check\n",
    "print(df.head())\n",
    "print(df.info())"
   ]
  },
  {
   "cell_type": "code",
   "execution_count": 5,
   "id": "ac913cfe-4cb9-486e-b8b3-bb8c9766222a",
   "metadata": {},
   "outputs": [
    {
     "name": "stdout",
     "output_type": "stream",
     "text": [
      "iso_code                                        0\n",
      "continent                                   26525\n",
      "location                                        0\n",
      "date                                            0\n",
      "total_cases                                 17631\n",
      "                                            ...  \n",
      "population                                      0\n",
      "excess_mortality_cumulative_absolute       416024\n",
      "excess_mortality_cumulative                416024\n",
      "excess_mortality                           416024\n",
      "excess_mortality_cumulative_per_million    416024\n",
      "Length: 67, dtype: int64\n"
     ]
    }
   ],
   "source": [
    "# 2️⃣ Inspect missing values\n",
    "# See missing data summary\n",
    "print(df.isnull().sum())\n"
   ]
  },
  {
   "cell_type": "code",
   "execution_count": 6,
   "id": "f0fee462-75bc-418c-acce-14ceec250755",
   "metadata": {},
   "outputs": [],
   "source": [
    "#3️⃣ Drop duplicate rows (if any)\n",
    "df = df.drop_duplicates()"
   ]
  },
  {
   "cell_type": "code",
   "execution_count": 7,
   "id": "e80a69c8-1316-4f38-a9be-aa7e2f92fca7",
   "metadata": {},
   "outputs": [],
   "source": [
    "#4️⃣ Convert date column to datetime\n",
    "df['date'] = pd.to_datetime(df['date'])"
   ]
  },
  {
   "cell_type": "code",
   "execution_count": 8,
   "id": "aae3bc7d-b164-4ee9-a0e2-0dad16caae76",
   "metadata": {},
   "outputs": [],
   "source": [
    "#5️⃣ Keep only needed columns\n",
    "df = df[['iso_code', 'continent', 'location', 'date',\n",
    "         'total_cases', 'new_cases',\n",
    "         'total_deaths', 'new_deaths',\n",
    "         'total_vaccinations', 'new_vaccinations']]"
   ]
  },
  {
   "cell_type": "code",
   "execution_count": 9,
   "id": "fb103222-5bda-4216-aee6-41469111f52f",
   "metadata": {},
   "outputs": [],
   "source": [
    "#6️⃣ Replace missing continent with 'Unknown'\n",
    "df['continent'] = df['continent'].fillna('Unknown')"
   ]
  },
  {
   "cell_type": "code",
   "execution_count": 10,
   "id": "6a8da10e-c1f3-4cdf-ab34-397c275ed5bc",
   "metadata": {},
   "outputs": [],
   "source": [
    "#7️⃣ Fill NaN in numerical columns with 0 (optional)\n",
    "cols_to_fill = ['total_cases', 'new_cases', 'total_deaths', 'new_deaths',\n",
    "                'total_vaccinations', 'new_vaccinations']\n",
    "\n",
    "df[cols_to_fill] = df[cols_to_fill].fillna(0)\n"
   ]
  },
  {
   "cell_type": "code",
   "execution_count": 11,
   "id": "0a3128aa-ddad-434a-931c-56e4b9486483",
   "metadata": {},
   "outputs": [],
   "source": [
    "df.to_csv(r'F:\\Projects\\2_COVID-19 Global Analysis\\2_Cleaned Data\\owid-covid-cleaned.csv', index=False)"
   ]
  },
  {
   "cell_type": "code",
   "execution_count": null,
   "id": "3711c4ba-039f-435c-97d9-d1a327f0027c",
   "metadata": {},
   "outputs": [],
   "source": []
  }
 ],
 "metadata": {
  "kernelspec": {
   "display_name": "Python 3 (ipykernel)",
   "language": "python",
   "name": "python3"
  },
  "language_info": {
   "codemirror_mode": {
    "name": "ipython",
    "version": 3
   },
   "file_extension": ".py",
   "mimetype": "text/x-python",
   "name": "python",
   "nbconvert_exporter": "python",
   "pygments_lexer": "ipython3",
   "version": "3.13.5"
  }
 },
 "nbformat": 4,
 "nbformat_minor": 5
}
