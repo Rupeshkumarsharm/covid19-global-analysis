{
 "cells": [
  {
   "cell_type": "code",
   "execution_count": 1,
   "id": "7b23b8ea-9d83-4ddd-8f76-a9088e805163",
   "metadata": {},
   "outputs": [],
   "source": [
    "import pandas as pd"
   ]
  },
  {
   "cell_type": "code",
   "execution_count": 2,
   "id": "8d682616-9570-43f8-bdd8-c272b0487084",
   "metadata": {},
   "outputs": [],
   "source": [
    "# Load cleaned data\n",
    "df = pd.read_csv(r'F:\\Projects\\2_COVID-19 Global Analysis\\2_Cleaned Data\\owid-covid-cleaned.csv')"
   ]
  },
  {
   "cell_type": "code",
   "execution_count": 3,
   "id": "6c07bfab-3001-4171-93f7-3b4df6c20c9c",
   "metadata": {},
   "outputs": [
    {
     "name": "stdout",
     "output_type": "stream",
     "text": [
      "  iso_code continent     location        date  total_cases  new_cases  \\\n",
      "0      AFG      Asia  Afghanistan  2020-01-05          0.0        0.0   \n",
      "1      AFG      Asia  Afghanistan  2020-01-06          0.0        0.0   \n",
      "2      AFG      Asia  Afghanistan  2020-01-07          0.0        0.0   \n",
      "3      AFG      Asia  Afghanistan  2020-01-08          0.0        0.0   \n",
      "4      AFG      Asia  Afghanistan  2020-01-09          0.0        0.0   \n",
      "\n",
      "   total_deaths  new_deaths  total_vaccinations  new_vaccinations  \n",
      "0           0.0         0.0                 0.0               0.0  \n",
      "1           0.0         0.0                 0.0               0.0  \n",
      "2           0.0         0.0                 0.0               0.0  \n",
      "3           0.0         0.0                 0.0               0.0  \n",
      "4           0.0         0.0                 0.0               0.0  \n",
      "<class 'pandas.core.frame.DataFrame'>\n",
      "RangeIndex: 429435 entries, 0 to 429434\n",
      "Data columns (total 10 columns):\n",
      " #   Column              Non-Null Count   Dtype  \n",
      "---  ------              --------------   -----  \n",
      " 0   iso_code            429435 non-null  object \n",
      " 1   continent           429435 non-null  object \n",
      " 2   location            429435 non-null  object \n",
      " 3   date                429435 non-null  object \n",
      " 4   total_cases         429435 non-null  float64\n",
      " 5   new_cases           429435 non-null  float64\n",
      " 6   total_deaths        429435 non-null  float64\n",
      " 7   new_deaths          429435 non-null  float64\n",
      " 8   total_vaccinations  429435 non-null  float64\n",
      " 9   new_vaccinations    429435 non-null  float64\n",
      "dtypes: float64(6), object(4)\n",
      "memory usage: 32.8+ MB\n",
      "None\n"
     ]
    }
   ],
   "source": [
    "# Quick check\n",
    "print(df.head())\n",
    "print(df.info())"
   ]
  },
  {
   "cell_type": "code",
   "execution_count": 4,
   "id": "efb713df-36f5-44c3-9d3b-ae8346db0639",
   "metadata": {},
   "outputs": [
    {
     "name": "stdout",
     "output_type": "stream",
     "text": [
      "🌍 Total cases worldwide: 775,866,783\n",
      "🌍 Total deaths worldwide: 7,057,132\n"
     ]
    }
   ],
   "source": [
    "#2️⃣ Total cases & deaths worldwide\n",
    "total_cases = df['total_cases'].max()\n",
    "total_deaths = df['total_deaths'].max()\n",
    "\n",
    "print(f\"🌍 Total cases worldwide: {total_cases:,.0f}\")\n",
    "print(f\"🌍 Total deaths worldwide: {total_deaths:,.0f}\")\n"
   ]
  },
  {
   "cell_type": "code",
   "execution_count": 5,
   "id": "56c3ea59-fd08-4a3e-a87c-8bd5fcb7c2cc",
   "metadata": {},
   "outputs": [
    {
     "name": "stdout",
     "output_type": "stream",
     "text": [
      "\n",
      "🌍 Top 10 countries by total cases:\n",
      "         location  total_cases\n",
      "217093  Lithuania          0.0\n",
      "230301   Malaysia          0.0\n",
      "\n",
      "🌍 Top 10 countries by total deaths:\n",
      "         location  total_deaths\n",
      "217093  Lithuania           0.0\n",
      "230301   Malaysia           0.0\n"
     ]
    }
   ],
   "source": [
    "#3️⃣ Top 10 countries by total cases & deaths\n",
    "# Get latest date in dataset\n",
    "latest_date = df['date'].max()\n",
    "\n",
    "# Filter for latest date\n",
    "latest = df[df['date'] == latest_date]\n",
    "\n",
    "# Remove continents & aggregates if needed (OWID has 'World', 'Africa', etc.)\n",
    "latest_countries = latest[~latest['iso_code'].str.startswith('OWID')]\n",
    "\n",
    "# Top 10 by cases\n",
    "top_cases = latest_countries[['location', 'total_cases']].sort_values(by='total_cases', ascending=False).head(10)\n",
    "print(\"\\n🌍 Top 10 countries by total cases:\")\n",
    "print(top_cases)\n",
    "\n",
    "# Top 10 by deaths\n",
    "top_deaths = latest_countries[['location', 'total_deaths']].sort_values(by='total_deaths', ascending=False).head(10)\n",
    "print(\"\\n🌍 Top 10 countries by total deaths:\")\n",
    "print(top_deaths)"
   ]
  },
  {
   "cell_type": "code",
   "execution_count": 6,
   "id": "744d483f-dd17-4163-9ad0-49a7491e403c",
   "metadata": {},
   "outputs": [
    {
     "name": "stdout",
     "output_type": "stream",
     "text": [
      "            date  new_cases  new_deaths\n",
      "1683  2024-08-10        0.0         0.0\n",
      "1684  2024-08-11        0.0         0.0\n",
      "1685  2024-08-12        0.0         0.0\n",
      "1686  2024-08-13        0.0         0.0\n",
      "1687  2024-08-14        0.0         0.0\n"
     ]
    }
   ],
   "source": [
    "#4️⃣ Daily new cases & deaths\n",
    "# Calculate global daily sums\n",
    "daily = df.groupby('date')[['new_cases', 'new_deaths']].sum().reset_index()\n",
    "\n",
    "print(daily.tail())"
   ]
  },
  {
   "cell_type": "code",
   "execution_count": 7,
   "id": "f14d490c-4e45-4d1e-957a-ee532d3e1bc6",
   "metadata": {},
   "outputs": [
    {
     "name": "stdout",
     "output_type": "stream",
     "text": [
      "📈 Highest single-day spike: 177,772,819 cases on 2022-12-25\n"
     ]
    }
   ],
   "source": [
    "# 5️⃣ Highest single-day spike (cases)\n",
    "max_new_cases = daily['new_cases'].max()\n",
    "max_new_cases_date = daily[daily['new_cases'] == max_new_cases]['date'].values[0]\n",
    "\n",
    "print(f\"📈 Highest single-day spike: {max_new_cases:,.0f} cases on {max_new_cases_date}\")"
   ]
  },
  {
   "cell_type": "code",
   "execution_count": 8,
   "id": "e1e9f6ef-7e32-4a5f-9445-de2c97fafb73",
   "metadata": {},
   "outputs": [
    {
     "name": "stdout",
     "output_type": "stream",
     "text": [
      "📈 Average daily new cases worldwide: 1,948,100\n"
     ]
    }
   ],
   "source": [
    "#6️⃣ Average daily new cases\n",
    "avg_new_cases = daily['new_cases'].mean()\n",
    "print(f\"📈 Average daily new cases worldwide: {avg_new_cases:,.0f}\")"
   ]
  },
  {
   "cell_type": "code",
   "execution_count": null,
   "id": "58140230-29ae-4ae6-8c9d-e9632e86ceab",
   "metadata": {},
   "outputs": [],
   "source": []
  }
 ],
 "metadata": {
  "kernelspec": {
   "display_name": "Python 3 (ipykernel)",
   "language": "python",
   "name": "python3"
  },
  "language_info": {
   "codemirror_mode": {
    "name": "ipython",
    "version": 3
   },
   "file_extension": ".py",
   "mimetype": "text/x-python",
   "name": "python",
   "nbconvert_exporter": "python",
   "pygments_lexer": "ipython3",
   "version": "3.13.5"
  }
 },
 "nbformat": 4,
 "nbformat_minor": 5
}
